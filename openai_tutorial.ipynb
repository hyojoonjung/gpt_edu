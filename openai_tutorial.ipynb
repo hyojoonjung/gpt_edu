{
 "cells": [
  {
   "cell_type": "code",
   "execution_count": 11,
   "metadata": {},
   "outputs": [],
   "source": [
    "import openai"
   ]
  },
  {
   "cell_type": "code",
   "execution_count": 13,
   "metadata": {},
   "outputs": [],
   "source": [
    "from dotenv import load_dotenv\n",
    "import os\n",
    "load_dotenv()\n",
    "\n",
    "api_key = os.getenv(\"api_key\")\n",
    "openai.api_key = api_key\n",
    "model = 'text-davinci-003'"
   ]
  },
  {
   "cell_type": "code",
   "execution_count": 14,
   "metadata": {},
   "outputs": [
    {
     "data": {
      "text/plain": [
       "' \\n근의 공식은'"
      ]
     },
     "execution_count": 14,
     "metadata": {},
     "output_type": "execute_result"
    }
   ],
   "source": [
    "response = openai.Completion.create(\n",
    "    prompt='뒤에 문장을 완성 시켜줘 : Q: 근의 공식이 뭐야? \\ A :',\n",
    "    model = model,\n",
    "    top_p = 1,\n",
    ")\n",
    "\n",
    "response['choices'][0]['text']"
   ]
  },
  {
   "cell_type": "code",
   "execution_count": 19,
   "metadata": {},
   "outputs": [],
   "source": [
    "response = openai.ChatCompletion.create(\n",
    "    model = 'gpt-3.5-turbo',\n",
    "    messages = [\n",
    "        {'role' : 'user', 'content' : '근의 공식이 뭐야?'},\n",
    "        # {'role' : 'system', 'content' : '근의 공식은 2차 방정식의 근을 구하는 공식을 말합니다. 2차 방정식 ax^2 + bx + c = 0의 근의 공식은 다음과 같습니다:\\n\\nx = (-b ± √(b^2 - 4ac)) / (2a)\\n\\n여기서 ±는 두 가지 가능한 근을 나타내며, √는 제곱근을 나타냅니다. 이 공식을 사용하여 주어진 2차 방정식의 근을 구할 수 있습니다.'}\n",
    "    ],\n",
    "    max_tokens = 250\n",
    ")\n",
    "\n",
    "chat = response['choices'][0]['message']['content']"
   ]
  },
  {
   "cell_type": "code",
   "execution_count": 20,
   "metadata": {},
   "outputs": [
    {
     "data": {
      "text/plain": [
       "'Yes'"
      ]
     },
     "execution_count": 20,
     "metadata": {},
     "output_type": "execute_result"
    }
   ],
   "source": [
    "response = openai.ChatCompletion.create(\n",
    "    model = 'gpt-4',\n",
    "    messages = [\n",
    "        {'role' : 'user', 'content' : f'해당 내용이 정확한지 판단을 해줘 무조건 yes/ no 로 판단해줘 {chat}'},\n",
    "        # {'role' : 'system', 'content' : '근의 공식은 2차 방정식의 근을 구하는 공식을 말합니다. 2차 방정식 ax^2 + bx + c = 0의 근의 공식은 다음과 같습니다:\\n\\nx = (-b ± √(b^2 - 4ac)) / (2a)\\n\\n여기서 ±는 두 가지 가능한 근을 나타내며, √는 제곱근을 나타냅니다. 이 공식을 사용하여 주어진 2차 방정식의 근을 구할 수 있습니다.'}\n",
    "    ],\n",
    "    max_tokens = 250\n",
    ")\n",
    "\n",
    "response['choices'][0]['message']['content']"
   ]
  }
 ],
 "metadata": {
  "interpreter": {
   "hash": "a3538e3d56709e678fe958d8106e85ad5fb55bdbefb75f2902995f21e682655b"
  },
  "kernelspec": {
   "display_name": "Python 3.11.4 ('tweet')",
   "language": "python",
   "name": "python3"
  },
  "language_info": {
   "codemirror_mode": {
    "name": "ipython",
    "version": 3
   },
   "file_extension": ".py",
   "mimetype": "text/x-python",
   "name": "python",
   "nbconvert_exporter": "python",
   "pygments_lexer": "ipython3",
   "version": "3.11.4"
  },
  "orig_nbformat": 4
 },
 "nbformat": 4,
 "nbformat_minor": 2
}
